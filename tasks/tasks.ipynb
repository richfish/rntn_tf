{
 "cells": [
  {
   "cell_type": "code",
   "execution_count": 3,
   "metadata": {
    "collapsed": false
   },
   "outputs": [
    {
     "data": {
      "text/html": [
       "<div>\n",
       "<table border=\"1\" class=\"dataframe\">\n",
       "  <thead>\n",
       "    <tr style=\"text-align: right;\">\n",
       "      <th></th>\n",
       "      <th>idx_in_data</th>\n",
       "      <th>sent</th>\n",
       "    </tr>\n",
       "  </thead>\n",
       "  <tbody>\n",
       "    <tr>\n",
       "      <th>0</th>\n",
       "      <td>1</td>\n",
       "      <td>The Rock is destined to be the 21st Century 's...</td>\n",
       "    </tr>\n",
       "    <tr>\n",
       "      <th>1</th>\n",
       "      <td>2</td>\n",
       "      <td>The gorgeously elaborate continuation of `` Th...</td>\n",
       "    </tr>\n",
       "    <tr>\n",
       "      <th>2</th>\n",
       "      <td>3</td>\n",
       "      <td>Effective but too-tepid biopic</td>\n",
       "    </tr>\n",
       "  </tbody>\n",
       "</table>\n",
       "</div>"
      ],
      "text/plain": [
       "   idx_in_data                                               sent\n",
       "0            1  The Rock is destined to be the 21st Century 's...\n",
       "1            2  The gorgeously elaborate continuation of `` Th...\n",
       "2            3                     Effective but too-tepid biopic"
      ]
     },
     "execution_count": 3,
     "metadata": {},
     "output_type": "execute_result"
    }
   ],
   "source": [
    "# Baseline comparison tasks (manual and SVM) \n",
    "\n",
    "\"\"\"\n",
    "Visit the project webpage and download the 3 dataset archives. Sample 50 rows from datasetSentences.txt. \n",
    "Go through by hand and classify each sentence as Very Positive, Somewhat Positive, Neutral, Somewhat Negative or \n",
    "Very Negative (5 class or \"fine grained\" classification). Compare your results to the ground truth and report \n",
    "overall accuracy and precision/recall for each class label. Do the same for the coarse grained task (Positive, Neutral, \n",
    "Negative). Create a csv that contains a row for each misclassified example including columns for the text, \n",
    "predicted label and true label.\n",
    "\"\"\"\n",
    "\n",
    "import pandas \n",
    "\n",
    "all_sents = pandas.read_table(\"../sst/datasetSentences.txt\", header=None, names=[\"idx_in_data\", \"sent\"])\n",
    "all_sents[:3]\n"
   ]
  },
  {
   "cell_type": "code",
   "execution_count": 3,
   "metadata": {
    "collapsed": false
   },
   "outputs": [
    {
     "data": {
      "text/html": [
       "<div>\n",
       "<table border=\"1\" class=\"dataframe\">\n",
       "  <thead>\n",
       "    <tr style=\"text-align: right;\">\n",
       "      <th></th>\n",
       "      <th>phrase</th>\n",
       "      <th>senti_key</th>\n",
       "    </tr>\n",
       "  </thead>\n",
       "  <tbody>\n",
       "    <tr>\n",
       "      <th>57733</th>\n",
       "      <td>Ultimately , Sarah 's dedication to finding he...</td>\n",
       "      <td>189323</td>\n",
       "    </tr>\n",
       "    <tr>\n",
       "      <th>2733</th>\n",
       "      <td>'s finally provided his own broadside at publi...</td>\n",
       "      <td>179750</td>\n",
       "    </tr>\n",
       "    <tr>\n",
       "      <th>5630</th>\n",
       "      <td>( for the most part )</td>\n",
       "      <td>23258</td>\n",
       "    </tr>\n",
       "  </tbody>\n",
       "</table>\n",
       "</div>"
      ],
      "text/plain": [
       "                                                  phrase  senti_key\n",
       "57733  Ultimately , Sarah 's dedication to finding he...     189323\n",
       "2733   's finally provided his own broadside at publi...     179750\n",
       "5630                               ( for the most part )      23258"
      ]
     },
     "execution_count": 3,
     "metadata": {},
     "output_type": "execute_result"
    }
   ],
   "source": [
    "# Before sampling lets add ground truth labels\n",
    "# Find the full sent in dictionary.txt to get a lookup key in sentiment_labels.txt\n",
    "\n",
    "sent_to_key = pandas.read_table(\"../sst/dictionary.txt\", sep=\"|\", header=None, names=[\"phrase\", \"senti_key\"])\n",
    "sent_to_key.sample(3)\n"
   ]
  },
  {
   "cell_type": "code",
   "execution_count": null,
   "metadata": {
    "collapsed": true
   },
   "outputs": [],
   "source": []
  },
  {
   "cell_type": "code",
   "execution_count": 4,
   "metadata": {
    "collapsed": false
   },
   "outputs": [
    {
     "data": {
      "text/html": [
       "<div>\n",
       "<table border=\"1\" class=\"dataframe\">\n",
       "  <thead>\n",
       "    <tr style=\"text-align: right;\">\n",
       "      <th></th>\n",
       "      <th>senti_key</th>\n",
       "      <th>score</th>\n",
       "    </tr>\n",
       "  </thead>\n",
       "  <tbody>\n",
       "    <tr>\n",
       "      <th>212067</th>\n",
       "      <td>212067</td>\n",
       "      <td>0.34722</td>\n",
       "    </tr>\n",
       "    <tr>\n",
       "      <th>185870</th>\n",
       "      <td>185870</td>\n",
       "      <td>0.16667</td>\n",
       "    </tr>\n",
       "    <tr>\n",
       "      <th>9729</th>\n",
       "      <td>9729</td>\n",
       "      <td>0.55556</td>\n",
       "    </tr>\n",
       "  </tbody>\n",
       "</table>\n",
       "</div>"
      ],
      "text/plain": [
       "        senti_key    score\n",
       "212067     212067  0.34722\n",
       "185870     185870  0.16667\n",
       "9729         9729  0.55556"
      ]
     },
     "execution_count": 4,
     "metadata": {},
     "output_type": "execute_result"
    }
   ],
   "source": [
    "senti_labels = pandas.read_table(\"../sst/sentiment_labels.txt\", sep=\"|\", header=None, names=[\"senti_key\", \"score\"])\n",
    "senti_labels.sample(3)\n"
   ]
  },
  {
   "cell_type": "code",
   "execution_count": null,
   "metadata": {
    "collapsed": true
   },
   "outputs": [],
   "source": []
  },
  {
   "cell_type": "code",
   "execution_count": 5,
   "metadata": {
    "collapsed": false
   },
   "outputs": [],
   "source": [
    "# Augment table with ground truth and labels; will take a minute\n",
    "# Note, -LRB- and -RRB- misc characters break lookup; substitutions are inconsistent in dictionary.txt, \n",
    "# so skipping for sake of time\n",
    "\n",
    "senti_scores = []\n",
    "for sent in all_sents.sent.tolist():\n",
    "    try: \n",
    "        senti_key = sent_to_key[sent_to_key['phrase'] == sent].iloc[0].senti_key\n",
    "        score = senti_labels[senti_labels['senti_key'] == senti_key].iloc[0].score\n",
    "        senti_scores.append(score)\n",
    "    except:         \n",
    "        senti_scores.append(\"SKIP\")     \n",
    "    \n",
    "assert len(senti_scores) == len(all_sents)    "
   ]
  },
  {
   "cell_type": "code",
   "execution_count": 6,
   "metadata": {
    "collapsed": false
   },
   "outputs": [
    {
     "data": {
      "text/html": [
       "<div>\n",
       "<table border=\"1\" class=\"dataframe\">\n",
       "  <thead>\n",
       "    <tr style=\"text-align: right;\">\n",
       "      <th></th>\n",
       "      <th>sent</th>\n",
       "      <th>senti_score</th>\n",
       "    </tr>\n",
       "  </thead>\n",
       "  <tbody>\n",
       "    <tr>\n",
       "      <th>4111</th>\n",
       "      <td>It lets you brush up against the humanity of a...</td>\n",
       "      <td>0.63889</td>\n",
       "    </tr>\n",
       "    <tr>\n",
       "      <th>10578</th>\n",
       "      <td>It never quite makes it to the boiling point ,...</td>\n",
       "      <td>0.61111</td>\n",
       "    </tr>\n",
       "    <tr>\n",
       "      <th>378</th>\n",
       "      <td>... a poignant and powerful narrative that rev...</td>\n",
       "      <td>0.70833</td>\n",
       "    </tr>\n",
       "    <tr>\n",
       "      <th>3756</th>\n",
       "      <td>Another trumpet blast that there may be a New ...</td>\n",
       "      <td>0.72222</td>\n",
       "    </tr>\n",
       "    <tr>\n",
       "      <th>988</th>\n",
       "      <td>A comprehensive and provocative film -- one th...</td>\n",
       "      <td>0.83333</td>\n",
       "    </tr>\n",
       "    <tr>\n",
       "      <th>5798</th>\n",
       "      <td>It 's all pretty tame .</td>\n",
       "      <td>0.43056</td>\n",
       "    </tr>\n",
       "    <tr>\n",
       "      <th>5883</th>\n",
       "      <td>It 's Tommy 's job to clean the peep booths su...</td>\n",
       "      <td>0.26389</td>\n",
       "    </tr>\n",
       "    <tr>\n",
       "      <th>76</th>\n",
       "      <td>This delicately observed story , deeply felt a...</td>\n",
       "      <td>0.91667</td>\n",
       "    </tr>\n",
       "    <tr>\n",
       "      <th>7028</th>\n",
       "      <td>A particularly joyless , and exceedingly dull ...</td>\n",
       "      <td>0.083333</td>\n",
       "    </tr>\n",
       "    <tr>\n",
       "      <th>10639</th>\n",
       "      <td>Screenwriter Dan Schneider and director Shawn ...</td>\n",
       "      <td>0.68056</td>\n",
       "    </tr>\n",
       "  </tbody>\n",
       "</table>\n",
       "</div>"
      ],
      "text/plain": [
       "                                                    sent senti_score\n",
       "4111   It lets you brush up against the humanity of a...     0.63889\n",
       "10578  It never quite makes it to the boiling point ,...     0.61111\n",
       "378    ... a poignant and powerful narrative that rev...     0.70833\n",
       "3756   Another trumpet blast that there may be a New ...     0.72222\n",
       "988    A comprehensive and provocative film -- one th...     0.83333\n",
       "5798                             It 's all pretty tame .     0.43056\n",
       "5883   It 's Tommy 's job to clean the peep booths su...     0.26389\n",
       "76     This delicately observed story , deeply felt a...     0.91667\n",
       "7028   A particularly joyless , and exceedingly dull ...    0.083333\n",
       "10639  Screenwriter Dan Schneider and director Shawn ...     0.68056"
      ]
     },
     "execution_count": 6,
     "metadata": {},
     "output_type": "execute_result"
    }
   ],
   "source": [
    "\n",
    "df_final = pandas.DataFrame({\"sent\": all_sents.sent, \"senti_score\": senti_scores})\n",
    "df_final.sample(10) #sanity check"
   ]
  },
  {
   "cell_type": "code",
   "execution_count": 14,
   "metadata": {
    "collapsed": false
   },
   "outputs": [
    {
     "data": {
      "text/html": [
       "<div>\n",
       "<table border=\"1\" class=\"dataframe\">\n",
       "  <thead>\n",
       "    <tr style=\"text-align: right;\">\n",
       "      <th></th>\n",
       "      <th>sent</th>\n",
       "      <th>senti_score</th>\n",
       "      <th>fine_label</th>\n",
       "      <th>coarse_label</th>\n",
       "    </tr>\n",
       "  </thead>\n",
       "  <tbody>\n",
       "    <tr>\n",
       "      <th>3395</th>\n",
       "      <td>-LRB- Barry -RRB- gives Assassin a disquieting...</td>\n",
       "      <td>SKIP</td>\n",
       "      <td>SKIP</td>\n",
       "      <td>SKIP</td>\n",
       "    </tr>\n",
       "    <tr>\n",
       "      <th>9828</th>\n",
       "      <td>Unless Bob Crane is someone of particular inte...</td>\n",
       "      <td>0.33333</td>\n",
       "      <td>1</td>\n",
       "      <td>0</td>\n",
       "    </tr>\n",
       "    <tr>\n",
       "      <th>5724</th>\n",
       "      <td>Though the opera itself takes place mostly ind...</td>\n",
       "      <td>0.40278</td>\n",
       "      <td>2</td>\n",
       "      <td>SKIP</td>\n",
       "    </tr>\n",
       "    <tr>\n",
       "      <th>10107</th>\n",
       "      <td>They 're going through the motions , but the z...</td>\n",
       "      <td>0.45833</td>\n",
       "      <td>2</td>\n",
       "      <td>SKIP</td>\n",
       "    </tr>\n",
       "    <tr>\n",
       "      <th>5492</th>\n",
       "      <td>Fans of the modern day Hong Kong action film f...</td>\n",
       "      <td>0.72222</td>\n",
       "      <td>3</td>\n",
       "      <td>1</td>\n",
       "    </tr>\n",
       "    <tr>\n",
       "      <th>10365</th>\n",
       "      <td>Wow , a jump cut !</td>\n",
       "      <td>0.41667</td>\n",
       "      <td>2</td>\n",
       "      <td>SKIP</td>\n",
       "    </tr>\n",
       "    <tr>\n",
       "      <th>9247</th>\n",
       "      <td>There is simply not enough of interest onscree...</td>\n",
       "      <td>0.25</td>\n",
       "      <td>1</td>\n",
       "      <td>0</td>\n",
       "    </tr>\n",
       "    <tr>\n",
       "      <th>11157</th>\n",
       "      <td>Um , no. .</td>\n",
       "      <td>0.44444</td>\n",
       "      <td>2</td>\n",
       "      <td>SKIP</td>\n",
       "    </tr>\n",
       "    <tr>\n",
       "      <th>3321</th>\n",
       "      <td>While this movie , by necessity , lacks Fellow...</td>\n",
       "      <td>0.66667</td>\n",
       "      <td>3</td>\n",
       "      <td>1</td>\n",
       "    </tr>\n",
       "    <tr>\n",
       "      <th>89</th>\n",
       "      <td>While The Isle is both preposterous and thorou...</td>\n",
       "      <td>0.61111</td>\n",
       "      <td>3</td>\n",
       "      <td>1</td>\n",
       "    </tr>\n",
       "  </tbody>\n",
       "</table>\n",
       "</div>"
      ],
      "text/plain": [
       "                                                    sent senti_score  \\\n",
       "3395   -LRB- Barry -RRB- gives Assassin a disquieting...        SKIP   \n",
       "9828   Unless Bob Crane is someone of particular inte...     0.33333   \n",
       "5724   Though the opera itself takes place mostly ind...     0.40278   \n",
       "10107  They 're going through the motions , but the z...     0.45833   \n",
       "5492   Fans of the modern day Hong Kong action film f...     0.72222   \n",
       "10365                                 Wow , a jump cut !     0.41667   \n",
       "9247   There is simply not enough of interest onscree...        0.25   \n",
       "11157                                         Um , no. .     0.44444   \n",
       "3321   While this movie , by necessity , lacks Fellow...     0.66667   \n",
       "89     While The Isle is both preposterous and thorou...     0.61111   \n",
       "\n",
       "      fine_label coarse_label  \n",
       "3395        SKIP         SKIP  \n",
       "9828           1            0  \n",
       "5724           2         SKIP  \n",
       "10107          2         SKIP  \n",
       "5492           3            1  \n",
       "10365          2         SKIP  \n",
       "9247           1            0  \n",
       "11157          2         SKIP  \n",
       "3321           3            1  \n",
       "89             3            1  "
      ]
     },
     "execution_count": 14,
     "metadata": {},
     "output_type": "execute_result"
    }
   ],
   "source": [
    "# add fine and coarse labels\n",
    "\n",
    "\"\"\"\n",
    "[0, 0.2], (0.2, 0.4], (0.4, 0.6], (0.6, 0.8], (0.8, 1.0]\n",
    "for very negative, negative, neutral, positive, very positive, respectively.\n",
    "\n",
    "***for coarse, [0, 0.4] (negative) vs. [.6, 1.0] (positive), \"SKIP\" neutral\n",
    "\"\"\"\n",
    "\n",
    "senti_map = {\"Very Positive\": 4, \"Somewhat Positive\": 3, \"Neutral\": 2, \"Somewhat Negative\": 1, \n",
    "            \"Very Negative\": 0, \"Positive\": 1, \"Negative\": 0}\n",
    "\n",
    "fine = []; coarse = []\n",
    "for score in df_final.senti_score.tolist():\n",
    "    if 0. <= score <= 0.2:\n",
    "        fine.append(senti_map[\"Very Negative\"])\n",
    "        coarse.append(senti_map[\"Negative\"])\n",
    "    elif 0.2 < score <= 0.4:\n",
    "        fine.append(senti_map[\"Somewhat Negative\"])\n",
    "        coarse.append(senti_map[\"Negative\"])\n",
    "    elif 0.4 < score <= 0.6:\n",
    "        fine.append(senti_map[\"Neutral\"])\n",
    "        coarse.append(\"SKIP\")\n",
    "    elif 0.6 < score <= 0.8:\n",
    "        fine.append(senti_map[\"Somewhat Positive\"])\n",
    "        coarse.append(senti_map[\"Positive\"])\n",
    "    elif 0.8 < score <= 1.0:\n",
    "        fine.append(senti_map[\"Very Positive\"])\n",
    "        coarse.append(senti_map[\"Positive\"])   \n",
    "    else: # if lookup failed from prior step\n",
    "        fine.append(\"SKIP\")\n",
    "        coarse.append(\"SKIP\")\n",
    "\n",
    "assert len(fine) == len(df_final) == len(coarse)\n",
    "\n",
    "df_final[\"fine_label\"] = fine \n",
    "df_final[\"coarse_label\"] = coarse\n",
    "\n",
    "df_final.sample(10) # sanity check"
   ]
  },
  {
   "cell_type": "code",
   "execution_count": null,
   "metadata": {
    "collapsed": false
   },
   "outputs": [],
   "source": []
  },
  {
   "cell_type": "code",
   "execution_count": 11,
   "metadata": {
    "collapsed": false
   },
   "outputs": [
    {
     "data": {
      "text/plain": [
       "0.9520033741037537"
      ]
     },
     "execution_count": 11,
     "metadata": {},
     "output_type": "execute_result"
    }
   ],
   "source": [
    "# Note, percentage of data w/o SKIPs\n",
    "float(len(df_final[df_final.senti_score != 'SKIP']))/float((len(df_final)))\n"
   ]
  },
  {
   "cell_type": "code",
   "execution_count": 17,
   "metadata": {
    "collapsed": false
   },
   "outputs": [
    {
     "data": {
      "text/plain": [
       "[\"If you like peace , you 'll like Promises .\",\n",
       " \"Even at its worst , it 's not half-bad .\",\n",
       " 'A movie that falls victim to frazzled wackiness and frayed satire .',\n",
       " 'is an inexpressible and drab wannabe looking for that exact niche .',\n",
       " 'An unsuccessful attempt at a movie of ideas .',\n",
       " 'A well-executed spy-thriller .',\n",
       " \"Provides the kind of ` laugh therapy ' I need from movie comedies -- offbeat humor , amusing characters , and a happy ending .\",\n",
       " \"It 's a Count for our times .\",\n",
       " 'Manages to be sweet and wickedly satisfying at the same time .',\n",
       " 'An intimate contemplation of two marvelously messy lives .',\n",
       " \"Pair that with really poor comedic writing ... and you 've got a huge mess .\",\n",
       " 'Starts promisingly but disintegrates into a dreary , humorless soap opera .',\n",
       " \"Nonsensical , dull `` cyber-horror '' flick is a grim , hollow exercise in flat scares and bad acting .\",\n",
       " \"For all its technical virtuosity , the film is so mired in juvenile and near-xenophobic pedagogy that it 's enough to make one pine for the day when Godard can no longer handle the rigors of filmmaking .\",\n",
       " 'Acting can not be acted .',\n",
       " 'In The Pianist , Polanski is saying what he has long wanted to say , confronting the roots of his own preoccupations and obsessions , and he allows nothing to get in the way .',\n",
       " \"Jacquot 's rendering of Puccini 's tale of devotion and double-cross is more than just a filmed opera .\",\n",
       " \"I had more fun with Ben Stiller 's Zoolander , which I thought was rather clever .\",\n",
       " \"It 's a gag that 's worn a bit thin over the years , though Do n't Ask still finds a few chuckles .\",\n",
       " 'Nothing more than four or five mild chuckles surrounded by 86 minutes of overly-familiar and poorly-constructed comedy .',\n",
       " 'One of the greatest family-oriented , fantasy-adventure movies ever .',\n",
       " \"The low-budget Full Frontal was one of the year 's murkiest , intentionally obscure and self-indulgent pictures , and Solaris is its big-budget brother .\",\n",
       " \"Funny and , at times , poignant , the film from director George Hickenlooper all takes place in Pasadena , `` a city where people still read . ''\",\n",
       " \"It 's an offbeat treat that pokes fun at the democratic exercise while also examining its significance for those who take part .\",\n",
       " 'is not easy .',\n",
       " 'We miss the quirky amazement that used to come along for an integral part of the ride .',\n",
       " 'More good than great but Freeman and Judd make it work .',\n",
       " 'Sluggish , tonally uneven .',\n",
       " \"This would-be ` James Bond for the Extreme Generation ' pic is one big , dumb action movie .\",\n",
       " \"Yet another movie which presumes that high school social groups are at war , let alone conscious of each other 's existence .\",\n",
       " \"A minor picture with a major identity crisis -- it 's sort of true and it 's sort of bogus and it 's ho-hum all the way through .\",\n",
       " 'Beautifully observed , miraculously unsentimental comedy-drama .',\n",
       " \"Benigni presents himself as the boy puppet Pinocchio , complete with receding hairline , weathered countenance and American Breckin Meyer 's ridiculously inappropriate Valley Boy voice .\",\n",
       " 'Its metaphors are opaque enough to avoid didacticism , and the film succeeds as an emotionally accessible , almost mystical work .',\n",
       " 'It looks closely , insightfully at fragile , complex relationships .',\n",
       " \"If there 's a heaven for bad movies , Deuces Wild is on its way .\",\n",
       " 'Naipaul fans may be disappointed .',\n",
       " \"Whereas Oliver Stone 's conspiracy thriller JFK was long , intricate , star-studded and visually flashy , Interview with the Assassin draws its considerable power from simplicity .\",\n",
       " \"Although there are several truly jolting scares , there 's also an abundance of hackneyed dialogue and more silly satanic business than you can shake a severed limb at .\",\n",
       " \"Waiting for Godard can be fruitful : ` In Praise of Love ' is the director 's epitaph for himself .\",\n",
       " 'For all its highfalutin title and corkscrew narrative , the movie turns out to be not much more than a shaggy human tale .',\n",
       " 'Beautifully reclaiming the story of Carmen and recreating it an in an African idiom .',\n",
       " 'In visual fertility Treasure Planet rivals the top Japanese animations of recent vintage .',\n",
       " 'Has enough gun battles and throwaway humor to cover up the yawning chasm where the plot should be .',\n",
       " 'Any movie that makes hard work seem heroic deserves a look .',\n",
       " 'This latest installment of the horror film franchise that is apparently as invulnerable as its trademark villain has arrived for an incongruous summer playoff , demonstrating yet again that the era of the intelligent , well-made B movie is long gone .',\n",
       " 'The 50-something lovebirds are too immature and unappealing to care about .',\n",
       " 'No laughs .',\n",
       " 'If swimfan does catch on , it may be because teens are looking for something to make them laugh .',\n",
       " 'It is definitely worth seeing .']"
      ]
     },
     "execution_count": 17,
     "metadata": {},
     "output_type": "execute_result"
    }
   ],
   "source": [
    "sample_space = df_final[df_final.senti_score != 'SKIP']\n",
    "samples = sample_space.sample(50)\n",
    "sample_sents = samples.sent.tolist()\n",
    "sample_sents"
   ]
  },
  {
   "cell_type": "code",
   "execution_count": 36,
   "metadata": {
    "collapsed": true
   },
   "outputs": [],
   "source": [
    "# guessing manually then adding to make new sample_df\n",
    "# see above senti_map... 0-4 for fine task, 0-1 for coarse\n",
    "\n",
    "fine_guess = [3, 3, 1, 1, 1, 3, 3, 3, 3, 2, 0, 1, 0, 1, 1, 3, 3, 4, 2, 0, 4, 2, 3, 3, 2, 1, 2, 0, 0, 1, 0, \n",
    "              4, 2, 4, 3, 0, 1, 3, 2, 3, 1, 4, 4, 2, 3, 1, 0, 2, 1, 4]\n",
    "\n",
    "coarse_guess = [1, 1, 0, 0, 0, 1, 1, 1, 1, 1, 0, 0, 0, 0, 0, 1, 1, 1, 1, 0, 1, 0, 1, 1, 0, 0, 1, 0, 0, 0, 0, \n",
    "                1, 1, 1, 1, 0, 0, 1, 1, 1, 0, 1, 1, 1, 1, 0, 0, 0, 0, 1]\n",
    "\n",
    "samples_df = pandas.DataFrame({ \"sample_sents\": samples.sent, \"fine_guess\":  fine_guess, \"coarse_guess\": coarse_guess, \n",
    "                              \"fine_gt\": samples.fine_label, \"coarse_gt\": samples.coarse_label })"
   ]
  },
  {
   "cell_type": "code",
   "execution_count": 37,
   "metadata": {
    "collapsed": false
   },
   "outputs": [
    {
     "data": {
      "text/html": [
       "<div>\n",
       "<table border=\"1\" class=\"dataframe\">\n",
       "  <thead>\n",
       "    <tr style=\"text-align: right;\">\n",
       "      <th></th>\n",
       "      <th>coarse_gt</th>\n",
       "      <th>coarse_guess</th>\n",
       "      <th>fine_gt</th>\n",
       "      <th>fine_guess</th>\n",
       "      <th>sample_sents</th>\n",
       "    </tr>\n",
       "  </thead>\n",
       "  <tbody>\n",
       "    <tr>\n",
       "      <th>3277</th>\n",
       "      <td>1</td>\n",
       "      <td>1</td>\n",
       "      <td>3</td>\n",
       "      <td>3</td>\n",
       "      <td>If you like peace , you 'll like Promises .</td>\n",
       "    </tr>\n",
       "    <tr>\n",
       "      <th>2961</th>\n",
       "      <td>1</td>\n",
       "      <td>1</td>\n",
       "      <td>3</td>\n",
       "      <td>3</td>\n",
       "      <td>Even at its worst , it 's not half-bad .</td>\n",
       "    </tr>\n",
       "    <tr>\n",
       "      <th>11185</th>\n",
       "      <td>SKIP</td>\n",
       "      <td>0</td>\n",
       "      <td>2</td>\n",
       "      <td>1</td>\n",
       "      <td>A movie that falls victim to frazzled wackines...</td>\n",
       "    </tr>\n",
       "    <tr>\n",
       "      <th>10186</th>\n",
       "      <td>0</td>\n",
       "      <td>0</td>\n",
       "      <td>1</td>\n",
       "      <td>1</td>\n",
       "      <td>is an inexpressible and drab wannabe looking f...</td>\n",
       "    </tr>\n",
       "    <tr>\n",
       "      <th>6793</th>\n",
       "      <td>0</td>\n",
       "      <td>0</td>\n",
       "      <td>1</td>\n",
       "      <td>1</td>\n",
       "      <td>An unsuccessful attempt at a movie of ideas .</td>\n",
       "    </tr>\n",
       "    <tr>\n",
       "      <th>11708</th>\n",
       "      <td>1</td>\n",
       "      <td>1</td>\n",
       "      <td>4</td>\n",
       "      <td>3</td>\n",
       "      <td>A well-executed spy-thriller .</td>\n",
       "    </tr>\n",
       "    <tr>\n",
       "      <th>2887</th>\n",
       "      <td>1</td>\n",
       "      <td>1</td>\n",
       "      <td>4</td>\n",
       "      <td>3</td>\n",
       "      <td>Provides the kind of ` laugh therapy ' I need ...</td>\n",
       "    </tr>\n",
       "    <tr>\n",
       "      <th>561</th>\n",
       "      <td>SKIP</td>\n",
       "      <td>1</td>\n",
       "      <td>2</td>\n",
       "      <td>3</td>\n",
       "      <td>It 's a Count for our times .</td>\n",
       "    </tr>\n",
       "    <tr>\n",
       "      <th>1310</th>\n",
       "      <td>1</td>\n",
       "      <td>1</td>\n",
       "      <td>4</td>\n",
       "      <td>3</td>\n",
       "      <td>Manages to be sweet and wickedly satisfying at...</td>\n",
       "    </tr>\n",
       "    <tr>\n",
       "      <th>5165</th>\n",
       "      <td>1</td>\n",
       "      <td>1</td>\n",
       "      <td>3</td>\n",
       "      <td>2</td>\n",
       "      <td>An intimate contemplation of two marvelously m...</td>\n",
       "    </tr>\n",
       "  </tbody>\n",
       "</table>\n",
       "</div>"
      ],
      "text/plain": [
       "      coarse_gt  coarse_guess fine_gt  fine_guess  \\\n",
       "3277          1             1       3           3   \n",
       "2961          1             1       3           3   \n",
       "11185      SKIP             0       2           1   \n",
       "10186         0             0       1           1   \n",
       "6793          0             0       1           1   \n",
       "11708         1             1       4           3   \n",
       "2887          1             1       4           3   \n",
       "561        SKIP             1       2           3   \n",
       "1310          1             1       4           3   \n",
       "5165          1             1       3           2   \n",
       "\n",
       "                                            sample_sents  \n",
       "3277         If you like peace , you 'll like Promises .  \n",
       "2961            Even at its worst , it 's not half-bad .  \n",
       "11185  A movie that falls victim to frazzled wackines...  \n",
       "10186  is an inexpressible and drab wannabe looking f...  \n",
       "6793       An unsuccessful attempt at a movie of ideas .  \n",
       "11708                     A well-executed spy-thriller .  \n",
       "2887   Provides the kind of ` laugh therapy ' I need ...  \n",
       "561                        It 's a Count for our times .  \n",
       "1310   Manages to be sweet and wickedly satisfying at...  \n",
       "5165   An intimate contemplation of two marvelously m...  "
      ]
     },
     "execution_count": 37,
     "metadata": {},
     "output_type": "execute_result"
    }
   ],
   "source": [
    "samples_df[:10]"
   ]
  },
  {
   "cell_type": "code",
   "execution_count": 101,
   "metadata": {
    "collapsed": false
   },
   "outputs": [],
   "source": [
    "\n"
   ]
  },
  {
   "cell_type": "code",
   "execution_count": 102,
   "metadata": {
    "collapsed": false
   },
   "outputs": [
    {
     "data": {
      "image/png": "[encoded data removed]",
      "text/plain": [
       "<matplotlib.figure.Figure at 0x1233fb950>"
      ]
     },
     "metadata": {},
     "output_type": "display_data"
    }
   ],
   "source": [
    "# confusion matrix \n",
    "\n",
    "import itertools\n",
    "import numpy as np\n",
    "import matplotlib.pyplot as plt\n",
    "\n",
    "from sklearn import svm, datasets\n",
    "from sklearn.model_selection import train_test_split\n",
    "from sklearn.metrics import confusion_matrix\n",
    "\n",
    "def plot_confusion_matrix(cm, classes, title='Confusion matrix'):\n",
    "    plt.imshow(cm, interpolation='nearest', cmap=plt.cm.Blues)\n",
    "    plt.title(title)\n",
    "    plt.colorbar()\n",
    "    tick_marks = np.arange(len(classes))\n",
    "    plt.xticks(tick_marks, classes, rotation=45)\n",
    "    plt.yticks(tick_marks, classes)\n",
    "    thresh = cm.max() / 2.\n",
    "    for i, j in itertools.product(range(cm.shape[0]), range(cm.shape[1])):\n",
    "        plt.text(j, i, cm[i, j],\n",
    "                 horizontalalignment=\"center\",\n",
    "                 color=\"white\" if cm[i, j] > thresh else \"black\")        \n",
    "    plt.tight_layout()\n",
    "    plt.ylabel('True label')\n",
    "    plt.xlabel('Predicted label') \n",
    "    \n",
    "samples_df.fine_gt = samples_df.fine_gt.astype(int)\n",
    "samples_df.fine_guess = samples_df.fine_guess.astype(int)\n",
    "\n",
    "truth = samples_df.fine_gt\n",
    "pred = samples_df.fine_guess\n",
    "\n",
    "cnf_matrix = confusion_matrix(truth, pred)\n",
    "np.set_printoptions(precision=2)\n",
    "\n",
    "plt.figure()\n",
    "plot_confusion_matrix(cnf_matrix, classes=[0,1,2,3,4], title='Fine grained task results')    \n",
    "plt.show()\n",
    "\n"
   ]
  },
  {
   "cell_type": "code",
   "execution_count": 119,
   "metadata": {
    "collapsed": false
   },
   "outputs": [
    {
     "name": "stdout",
     "output_type": "stream",
     "text": [
      "             precision    recall  f1-score   support\n",
      "\n",
      "          0     0.7500    0.8571    0.8000         7\n",
      "          1     0.6667    0.6154    0.6400        13\n",
      "          2     0.4444    0.4000    0.4211        10\n",
      "          3     0.6429    0.6429    0.6429        14\n",
      "          4     0.4286    0.5000    0.4615         6\n",
      "\n",
      "avg / total     0.5987    0.6000    0.5980        50\n",
      "\n",
      "With overall accuracy: 0.6000\n"
     ]
    }
   ],
   "source": [
    "# Fine grained task stats:\n",
    "\n",
    "# Manually for first class (0 - very negative)\n",
    "\n",
    "# Accuracy \n",
    "# (TP + TN) / all\n",
    "# (6 + 41)/ 50 = 94% \n",
    "\n",
    "# Precision \n",
    "# TP/(TP + FP)\n",
    "# 6 / (6 + 2) = 75%\n",
    "\n",
    "# Recall\n",
    "# TP/(TP + FN)\n",
    "# 6/ (6 + 1) = 86% \n",
    "\n",
    "\n",
    "# The rest\n",
    "\n",
    "from sklearn.metrics import classification_report\n",
    "from sklearn.metrics import accuracy_score\n",
    "\n",
    "print(classification_report(truth, pred, digits=4))\n",
    "\n",
    "print(\"With overall accuracy: {:.4f}\".format(accuracy_score(truth, pred)))\n",
    "\n"
   ]
  },
  {
   "cell_type": "code",
   "execution_count": 124,
   "metadata": {
    "collapsed": false
   },
   "outputs": [
    {
     "data": {
      "image/png": "[encoded data removed]",
      "text/plain": [
       "<matplotlib.figure.Figure at 0x119c90990>"
      ]
     },
     "metadata": {},
     "output_type": "display_data"
    }
   ],
   "source": [
    "# Coarse grained evaluation \n",
    "# Total count will be reduced because removing \"2\" neutral sentiment from 50 originals;\n",
    "# I could re-sample for non \"2\" for this task\n",
    "\n",
    "samples_df2 = samples_df[samples_df.coarse_gt != \"SKIP\"]\n",
    "samples_df2.coarse_gt = samples_df2.coarse_gt.astype(int)\n",
    "samples_df2.coarse_guess = samples_df2.coarse_guess.astype(int)\n",
    "\n",
    "truth = samples_df2.coarse_gt\n",
    "pred = samples_df2.coarse_guess\n",
    "\n",
    "cnf_matrix = confusion_matrix(truth, pred)\n",
    "np.set_printoptions(precision=2)\n",
    "\n",
    "plt.figure()\n",
    "plot_confusion_matrix(cnf_matrix, classes=[0,1], title='Coarse grained task results')    \n",
    "plt.show()\n",
    "\n",
    "\n"
   ]
  },
  {
   "cell_type": "code",
   "execution_count": 125,
   "metadata": {
    "collapsed": false
   },
   "outputs": [
    {
     "name": "stdout",
     "output_type": "stream",
     "text": [
      "             precision    recall  f1-score   support\n",
      "\n",
      "          0     1.0000    0.9500    0.9744        20\n",
      "          1     0.9524    1.0000    0.9756        20\n",
      "\n",
      "avg / total     0.9762    0.9750    0.9750        40\n",
      "\n",
      "With overall accuracy: 0.9750\n"
     ]
    }
   ],
   "source": [
    "print(classification_report(truth, pred, digits=4))\n",
    "\n",
    "print(\"With overall accuracy: {:.4f}\".format(accuracy_score(truth, pred)))\n",
    "\n"
   ]
  },
  {
   "cell_type": "code",
   "execution_count": null,
   "metadata": {
    "collapsed": true
   },
   "outputs": [],
   "source": []
  },
  {
   "cell_type": "code",
   "execution_count": 233,
   "metadata": {
    "collapsed": false
   },
   "outputs": [
    {
     "name": "stdout",
     "output_type": "stream",
     "text": [
      "Num misclass fine: \n",
      " 20\n",
      "Num misclass coarse: \n",
      " 1\n"
     ]
    }
   ],
   "source": [
    "# Finally, save CSVs with misclassifications \n",
    "\n",
    "misclf_fine_df = samples_df[samples_df.fine_guess != samples_df.fine_gt]\n",
    "misclf_coarse_df = samples_df2[samples_df2.coarse_guess != samples_df2.coarse_gt]\n",
    "print(\"Num misclass fine: \\n {}\".format(len(misclf_fine_df)))\n",
    "print(\"Num misclass coarse: \\n {}\".format(len(misclf_coarse_df)))\n",
    "\n",
    "misclf_fine_df = misclf_fine_df.filter(['fine_gt', 'fine_guess', 'sample_sents'], axis=1)\n",
    "misclf_coarse_df = misclf_coarse_df.filter(['coarse_gt', 'coarse_guess', 'sample_sents'], axis=1)\n",
    "\n",
    "misclf_fine_df.to_csv(\"misclf_manual_fine.csv\")\n",
    "misclf_coarse_df.to_csv(\"misclf_manual_coarse.csv\")\n",
    "\n"
   ]
  },
  {
   "cell_type": "code",
   "execution_count": null,
   "metadata": {
    "collapsed": true
   },
   "outputs": [],
   "source": []
  },
  {
   "cell_type": "code",
   "execution_count": null,
   "metadata": {
    "collapsed": true
   },
   "outputs": [],
   "source": []
  },
  {
   "cell_type": "code",
   "execution_count": null,
   "metadata": {
    "collapsed": true
   },
   "outputs": [],
   "source": []
  },
  {
   "cell_type": "code",
   "execution_count": null,
   "metadata": {
    "collapsed": true
   },
   "outputs": [],
   "source": []
  },
  {
   "cell_type": "code",
   "execution_count": 271,
   "metadata": {
    "collapsed": false
   },
   "outputs": [],
   "source": [
    "# SVM BASELINE \n",
    "\n",
    "\"\"\"\n",
    "Use spacy and sklearn to create an SVM classifier that uses pretrained word vectors (GloVe) \n",
    "and bag of words features. Average the vectors for each token in the sentence (minus stop words) \n",
    "to create a sentence vector. Use the fiixed size sentence vector as the feature input for your classifier. \n",
    "Do some minimal hyperparameter tuning using GridSearchCV. Report accuracy plus precision/recall for each class \n",
    "label for both the coarse grained and fine grained classification tasks. Create a csv that contains a row for each \n",
    "misclassified example including columns for the text, predicted label and true label.\n",
    "\"\"\"\n",
    "\n",
    "import spacy \n",
    "nlp = spacy.load('en')\n",
    "\n",
    "# switch 50d \n",
    "vecs = open(\"../assets/glove.6B.50d.txt\")\n",
    "nlp.vocab.load_vectors(vecs)\n",
    "doc = nlp(u\"hello there\")\n",
    "assert len(doc[0].vector) == 50\n"
   ]
  },
  {
   "cell_type": "code",
   "execution_count": 272,
   "metadata": {
    "collapsed": false
   },
   "outputs": [],
   "source": [
    "# Add col for sent vector\n",
    "\n",
    "import numpy as np\n",
    "\n",
    "sent_vecs = []\n",
    "for sent in df_final.sent.tolist():\n",
    "    word_vecs = [x.vector for x in nlp(unicode(sent, errors='ignore')) if not x.is_stop]\n",
    "    sent_vec = np.average(word_vecs, axis=0)\n",
    "    sent_vecs.append(sent_vec)\n",
    "    \n",
    "assert len(sent_vecs) == len(df_final)\n",
    "assert np.shape(sent_vecs)[1] == 50\n"
   ]
  },
  {
   "cell_type": "code",
   "execution_count": 275,
   "metadata": {
    "collapsed": false
   },
   "outputs": [
    {
     "data": {
      "text/html": [
       "<div>\n",
       "<table border=\"1\" class=\"dataframe\">\n",
       "  <thead>\n",
       "    <tr style=\"text-align: right;\">\n",
       "      <th></th>\n",
       "      <th>sent</th>\n",
       "      <th>senti_score</th>\n",
       "      <th>fine_label</th>\n",
       "      <th>coarse_label</th>\n",
       "      <th>sent_vec</th>\n",
       "    </tr>\n",
       "  </thead>\n",
       "  <tbody>\n",
       "    <tr>\n",
       "      <th>1919</th>\n",
       "      <td>For his first attempt at film noir , Spielberg...</td>\n",
       "      <td>0.63889</td>\n",
       "      <td>3</td>\n",
       "      <td>1</td>\n",
       "      <td>[0.393769, 0.128051, -0.247352, -0.0943897, 0....</td>\n",
       "    </tr>\n",
       "    <tr>\n",
       "      <th>5699</th>\n",
       "      <td>Such master screenwriting comes courtesy of Jo...</td>\n",
       "      <td>0.83333</td>\n",
       "      <td>4</td>\n",
       "      <td>1</td>\n",
       "      <td>[-0.0443398, 0.260765, -0.0835923, -0.173025, ...</td>\n",
       "    </tr>\n",
       "    <tr>\n",
       "      <th>10247</th>\n",
       "      <td>Director Elie Chouraqui , who co-wrote the scr...</td>\n",
       "      <td>0.23611</td>\n",
       "      <td>1</td>\n",
       "      <td>0</td>\n",
       "      <td>[0.0209001, -0.0141412, -0.134606, -0.217842, ...</td>\n",
       "    </tr>\n",
       "  </tbody>\n",
       "</table>\n",
       "</div>"
      ],
      "text/plain": [
       "                                                    sent senti_score  \\\n",
       "1919   For his first attempt at film noir , Spielberg...     0.63889   \n",
       "5699   Such master screenwriting comes courtesy of Jo...     0.83333   \n",
       "10247  Director Elie Chouraqui , who co-wrote the scr...     0.23611   \n",
       "\n",
       "      fine_label coarse_label  \\\n",
       "1919           3            1   \n",
       "5699           4            1   \n",
       "10247          1            0   \n",
       "\n",
       "                                                sent_vec  \n",
       "1919   [0.393769, 0.128051, -0.247352, -0.0943897, 0....  \n",
       "5699   [-0.0443398, 0.260765, -0.0835923, -0.173025, ...  \n",
       "10247  [0.0209001, -0.0141412, -0.134606, -0.217842, ...  "
      ]
     },
     "execution_count": 275,
     "metadata": {},
     "output_type": "execute_result"
    }
   ],
   "source": [
    "df_final[\"sent_vec\"] = sent_vecs\n",
    "df_final.sample(3)\n",
    "\n"
   ]
  },
  {
   "cell_type": "code",
   "execution_count": null,
   "metadata": {
    "collapsed": false
   },
   "outputs": [],
   "source": []
  },
  {
   "cell_type": "code",
   "execution_count": 298,
   "metadata": {
    "collapsed": false
   },
   "outputs": [],
   "source": [
    "# train - test; dev - train for GridSearchCV\n",
    "# get splits from datasetSplit.txt... or arbitrary\n",
    "\n",
    "df_train = df_final[:-1200]\n",
    "df_test = df_final[-1200:]"
   ]
  },
  {
   "cell_type": "code",
   "execution_count": null,
   "metadata": {
    "collapsed": true
   },
   "outputs": [],
   "source": []
  },
  {
   "cell_type": "code",
   "execution_count": 299,
   "metadata": {
    "collapsed": false
   },
   "outputs": [
    {
     "name": "stderr",
     "output_type": "stream",
     "text": [
      "/Users/richard/anaconda2/lib/python2.7/site-packages/ipykernel/__main__.py:7: UserWarning: Boolean Series key will be reindexed to match DataFrame index.\n"
     ]
    },
    {
     "data": {
      "text/plain": [
       "GridSearchCV(cv=5, error_score='raise',\n",
       "       estimator=SVC(C=1.0, cache_size=200, class_weight=None, coef0=0.0,\n",
       "  decision_function_shape=None, degree=3, gamma='auto', kernel='rbf',\n",
       "  max_iter=-1, probability=False, random_state=None, shrinking=True,\n",
       "  tol=0.001, verbose=False),\n",
       "       fit_params={}, iid=True, n_jobs=1,\n",
       "       param_grid={'kernel': ['rbf'], 'C': array([  0.1,   1. ,  10. ]), 'gamma': array([ 0.001,  0.01 ,  0.1  ])},\n",
       "       pre_dispatch='2*n_jobs', refit=True, scoring='accuracy', verbose=0)"
      ]
     },
     "execution_count": 299,
     "metadata": {},
     "output_type": "execute_result"
    }
   ],
   "source": [
    "# Fine grained SVM\n",
    "\n",
    "from sklearn import svm\n",
    "from sklearn.grid_search import GridSearchCV\n",
    "svm_c = svm.SVC()\n",
    "\n",
    "df_train2 = df_train[df_final.fine_label != \"SKIP\"]\n",
    "features = df_train2.sent_vec.tolist()\n",
    "labels = df_train2.fine_label.tolist()\n",
    "\n",
    "gamma = 10.**np.arange(-3, 0)\n",
    "C = 10.**np.arange(-1, 2)\n",
    "kernels = ['rbf']#, 'sigmoid','poly']\n",
    "hyperps = {'gamma': gamma, 'C': C, 'kernel': kernels }\n",
    "\n",
    "gs = GridSearchCV(svm_c, hyperps, cv=5, scoring='accuracy')\n",
    "gs.fit(features, labels)\n"
   ]
  },
  {
   "cell_type": "code",
   "execution_count": 301,
   "metadata": {
    "collapsed": false
   },
   "outputs": [
    {
     "name": "stdout",
     "output_type": "stream",
     "text": [
      "Best fine train accuracy --> 0.3785 \n",
      "\n",
      "{'kernel': 'rbf', 'C': 10.0, 'gamma': 0.10000000000000001}\n",
      "SVC(C=10.0, cache_size=200, class_weight=None, coef0=0.0,\n",
      "  decision_function_shape=None, degree=3, gamma=0.10000000000000001,\n",
      "  kernel='rbf', max_iter=-1, probability=False, random_state=None,\n",
      "  shrinking=True, tol=0.001, verbose=False)\n"
     ]
    }
   ],
   "source": [
    "print(\"Best fine train accuracy --> {:.4f} \\n\".format(gs.best_score_))\n",
    "print(gs.best_params_)\n",
    "print(gs.best_estimator_)"
   ]
  },
  {
   "cell_type": "code",
   "execution_count": 303,
   "metadata": {
    "collapsed": false
   },
   "outputs": [
    {
     "name": "stdout",
     "output_type": "stream",
     "text": [
      "With fine test accuracy: 0.360988526037\n",
      "\n",
      "             precision    recall  f1-score   support\n",
      "\n",
      "          0     0.5106    0.0930    0.1574       258\n",
      "          1     0.4703    0.6064    0.5297       470\n",
      "          2     0.2804    0.1282    0.1760       234\n",
      "          3     0.1698    0.4615    0.2483       117\n",
      "          4     0.2909    0.2963    0.2936        54\n",
      "\n",
      "avg / total     0.4007    0.3610    0.3316      1133\n",
      "\n"
     ]
    }
   ],
   "source": [
    "# Fine grained SVM precision/ recall etc.\n",
    "\n",
    "from sklearn.metrics import classification_report\n",
    "from sklearn.metrics import accuracy_score\n",
    "\n",
    "df_test_fine = df_test[df_test.fine_label != \"SKIP\"]\n",
    "features = df_test_fine.sent_vec.tolist()\n",
    "y_fine = df_test_fine.fine_label.tolist()\n",
    "\n",
    "pred_fine = gs.predict(features)\n",
    "print(\"With fine test accuracy: {}\\n\".format(accuracy_score(y_fine, pred_fine)))\n",
    "print(classification_report(y_fine, pred_fine, digits=4))\n"
   ]
  },
  {
   "cell_type": "code",
   "execution_count": null,
   "metadata": {
    "collapsed": false
   },
   "outputs": [],
   "source": []
  },
  {
   "cell_type": "code",
   "execution_count": 304,
   "metadata": {
    "collapsed": false
   },
   "outputs": [
    {
     "name": "stderr",
     "output_type": "stream",
     "text": [
      "/Users/richard/anaconda2/lib/python2.7/site-packages/ipykernel/__main__.py:6: UserWarning: Boolean Series key will be reindexed to match DataFrame index.\n"
     ]
    },
    {
     "data": {
      "text/plain": [
       "GridSearchCV(cv=5, error_score='raise',\n",
       "       estimator=SVC(C=1.0, cache_size=200, class_weight=None, coef0=0.0,\n",
       "  decision_function_shape=None, degree=3, gamma='auto', kernel='rbf',\n",
       "  max_iter=-1, probability=False, random_state=None, shrinking=True,\n",
       "  tol=0.001, verbose=False),\n",
       "       fit_params={}, iid=True, n_jobs=1,\n",
       "       param_grid={'kernel': ['rbf'], 'C': array([  0.1,   1. ,  10. ]), 'gamma': array([ 0.001,  0.01 ,  0.1  ])},\n",
       "       pre_dispatch='2*n_jobs', refit=True, scoring='accuracy', verbose=0)"
      ]
     },
     "execution_count": 304,
     "metadata": {},
     "output_type": "execute_result"
    }
   ],
   "source": [
    "# Coarse grained SVM\n",
    "\n",
    "from sklearn import svm\n",
    "svm_c = svm.SVC()\n",
    "\n",
    "df_train2 = df_train[df_final.coarse_label != \"SKIP\"]\n",
    "features = df_train2.sent_vec.tolist()\n",
    "labels = df_train2.coarse_label.tolist()\n",
    "\n",
    "gamma = 10.**np.arange(-3, 0)\n",
    "C = 10.**np.arange(-1, 2)\n",
    "kernels = ['rbf']#, 'sigmoid','poly']\n",
    "hyperps = {'gamma': gamma, 'C': C, 'kernel': kernels }\n",
    "\n",
    "gs = GridSearchCV(svm_c, hyperps, cv=5, scoring='accuracy')\n",
    "gs.fit(features, labels)\n"
   ]
  },
  {
   "cell_type": "code",
   "execution_count": 305,
   "metadata": {
    "collapsed": false
   },
   "outputs": [
    {
     "name": "stdout",
     "output_type": "stream",
     "text": [
      "Best train coarse accuracy --> 0.7274 \n",
      "\n",
      "{'kernel': 'rbf', 'C': 10.0, 'gamma': 0.10000000000000001}\n",
      "SVC(C=10.0, cache_size=200, class_weight=None, coef0=0.0,\n",
      "  decision_function_shape=None, degree=3, gamma=0.10000000000000001,\n",
      "  kernel='rbf', max_iter=-1, probability=False, random_state=None,\n",
      "  shrinking=True, tol=0.001, verbose=False)\n"
     ]
    }
   ],
   "source": [
    "print(\"Best train coarse accuracy --> {:.4f} \\n\".format(gs.best_score_))\n",
    "print(gs.best_params_)\n",
    "print(gs.best_estimator_)"
   ]
  },
  {
   "cell_type": "code",
   "execution_count": 308,
   "metadata": {
    "collapsed": false
   },
   "outputs": [
    {
     "name": "stdout",
     "output_type": "stream",
     "text": [
      "With coarse test accuracy: 0.725250278087\n",
      "\n",
      "             precision    recall  f1-score   support\n",
      "\n",
      "          0     0.9125    0.7308    0.8116       728\n",
      "          1     0.3797    0.7018    0.4928       171\n",
      "\n",
      "avg / total     0.8112    0.7253    0.7510       899\n",
      "\n"
     ]
    }
   ],
   "source": [
    "# Coarse grained SVM precision/ recall\n",
    "\n",
    "df_test_coarse = df_test[df_test.coarse_label != \"SKIP\"]\n",
    "features = df_test_coarse.sent_vec.tolist()\n",
    "y_coarse = df_test_coarse.coarse_label.tolist()\n",
    "\n",
    "pred_coarse = gs.predict(features)\n",
    "print(\"With coarse test accuracy: {}\\n\".format(accuracy_score(y_coarse, pred_coarse)))\n",
    "print(classification_report(y_coarse, pred_coarse, digits=4))\n"
   ]
  },
  {
   "cell_type": "code",
   "execution_count": null,
   "metadata": {
    "collapsed": true
   },
   "outputs": [],
   "source": []
  },
  {
   "cell_type": "code",
   "execution_count": 310,
   "metadata": {
    "collapsed": false
   },
   "outputs": [
    {
     "name": "stdout",
     "output_type": "stream",
     "text": [
      "Num misclass SVM fine: \n",
      " 724\n",
      "Num misclass SVM coarse: \n",
      " 247\n"
     ]
    },
    {
     "name": "stderr",
     "output_type": "stream",
     "text": [
      "/Users/richard/anaconda2/lib/python2.7/site-packages/ipykernel/__main__.py:3: SettingWithCopyWarning: \n",
      "A value is trying to be set on a copy of a slice from a DataFrame.\n",
      "Try using .loc[row_indexer,col_indexer] = value instead\n",
      "\n",
      "See the caveats in the documentation: http://pandas.pydata.org/pandas-docs/stable/indexing.html#indexing-view-versus-copy\n",
      "  app.launch_new_instance()\n",
      "/Users/richard/anaconda2/lib/python2.7/site-packages/ipykernel/__main__.py:4: SettingWithCopyWarning: \n",
      "A value is trying to be set on a copy of a slice from a DataFrame.\n",
      "Try using .loc[row_indexer,col_indexer] = value instead\n",
      "\n",
      "See the caveats in the documentation: http://pandas.pydata.org/pandas-docs/stable/indexing.html#indexing-view-versus-copy\n"
     ]
    }
   ],
   "source": [
    "# misclassifications csv\n",
    "\n",
    "df_test_fine[\"prediction\"] = pred_fine\n",
    "df_test_coarse[\"prediction\"] = pred_coarse\n",
    "\n",
    "misclf_fine_df = df_test_fine[df_test_fine.fine_label != df_test_fine.prediction]\n",
    "misclf_coarse_df = df_test_coarse[df_test_coarse.coarse_label != df_test_coarse.prediction]\n",
    "print(\"Num misclass SVM fine: \\n {}\".format(len(misclf_fine_df)))\n",
    "print(\"Num misclass SVM coarse: \\n {}\".format(len(misclf_coarse_df)))\n",
    "\n",
    "misclf_fine_df = misclf_fine_df.filter(['fine_label', 'prediction', 'sent'], axis=1)\n",
    "misclf_coarse_df = misclf_coarse_df.filter(['coarse_label', 'prediction', 'sent'], axis=1)\n",
    "\n",
    "misclf_fine_df.to_csv(\"misclf_svm_fine.csv\")\n",
    "misclf_coarse_df.to_csv(\"misclf_svm_coarse.csv\")\n",
    "\n"
   ]
  },
  {
   "cell_type": "code",
   "execution_count": null,
   "metadata": {
    "collapsed": true
   },
   "outputs": [],
   "source": []
  },
  {
   "cell_type": "code",
   "execution_count": null,
   "metadata": {
    "collapsed": true
   },
   "outputs": [],
   "source": []
  },
  {
   "cell_type": "code",
   "execution_count": null,
   "metadata": {
    "collapsed": true
   },
   "outputs": [],
   "source": []
  },
  {
   "cell_type": "code",
   "execution_count": null,
   "metadata": {
    "collapsed": true
   },
   "outputs": [],
   "source": []
  },
  {
   "cell_type": "code",
   "execution_count": 153,
   "metadata": {
    "collapsed": true
   },
   "outputs": [],
   "source": []
  },
  {
   "cell_type": "code",
   "execution_count": null,
   "metadata": {
    "collapsed": true
   },
   "outputs": [],
   "source": []
  },
  {
   "cell_type": "code",
   "execution_count": 151,
   "metadata": {
    "collapsed": false
   },
   "outputs": [
    {
     "data": {
      "text/html": [
       "<div>\n",
       "<table border=\"1\" class=\"dataframe\">\n",
       "  <thead>\n",
       "    <tr style=\"text-align: right;\">\n",
       "      <th></th>\n",
       "      <th>test_id</th>\n",
       "      <th>logit_raw_root</th>\n",
       "      <th>y_onehot_root</th>\n",
       "      <th>fine_guess</th>\n",
       "      <th>fine_label</th>\n",
       "      <th>all_node_acc</th>\n",
       "    </tr>\n",
       "  </thead>\n",
       "  <tbody>\n",
       "    <tr>\n",
       "      <th>548</th>\n",
       "      <td>548</td>\n",
       "      <td>[-1.64839733 -0.54215133 -0.03517973 -0.591024...</td>\n",
       "      <td>[0.0, 0.0, 0.0, 0.0, 1.0]</td>\n",
       "      <td>2</td>\n",
       "      <td>4</td>\n",
       "      <td>0.727273</td>\n",
       "    </tr>\n",
       "    <tr>\n",
       "      <th>519</th>\n",
       "      <td>519</td>\n",
       "      <td>[-1.67191339 -0.54016113 -0.09440076 -0.601565...</td>\n",
       "      <td>[1.0, 0.0, 0.0, 0.0, 0.0]</td>\n",
       "      <td>2</td>\n",
       "      <td>0</td>\n",
       "      <td>0.776471</td>\n",
       "    </tr>\n",
       "    <tr>\n",
       "      <th>936</th>\n",
       "      <td>936</td>\n",
       "      <td>[-1.6897788  -0.54175001 -0.33596492 -0.218336...</td>\n",
       "      <td>[0.0, 0.0, 0.0, 0.0, 1.0]</td>\n",
       "      <td>3</td>\n",
       "      <td>4</td>\n",
       "      <td>0.686275</td>\n",
       "    </tr>\n",
       "  </tbody>\n",
       "</table>\n",
       "</div>"
      ],
      "text/plain": [
       "     test_id                                     logit_raw_root  \\\n",
       "548      548  [-1.64839733 -0.54215133 -0.03517973 -0.591024...   \n",
       "519      519  [-1.67191339 -0.54016113 -0.09440076 -0.601565...   \n",
       "936      936  [-1.6897788  -0.54175001 -0.33596492 -0.218336...   \n",
       "\n",
       "                 y_onehot_root  fine_guess  fine_label  all_node_acc  \n",
       "548  [0.0, 0.0, 0.0, 0.0, 1.0]           2           4      0.727273  \n",
       "519  [1.0, 0.0, 0.0, 0.0, 0.0]           2           0      0.776471  \n",
       "936  [0.0, 0.0, 0.0, 0.0, 1.0]           3           4      0.686275  "
      ]
     },
     "execution_count": 151,
     "metadata": {},
     "output_type": "execute_result"
    }
   ],
   "source": [
    "# RNTN results \n",
    "\n",
    "\n",
    "\n",
    "# classifier results on test set \n",
    "rntn = pandas.read_csv(\"rntn_predictions_raw.csv\")\n",
    "rntn.sample(3)\n"
   ]
  },
  {
   "cell_type": "code",
   "execution_count": 154,
   "metadata": {
    "collapsed": false
   },
   "outputs": [
    {
     "name": "stdout",
     "output_type": "stream",
     "text": [
      "Root label accuracy 0.205430\n",
      "\n",
      "All node accuracy 0.729853\n",
      "\n",
      "             precision    recall  f1-score   support\n",
      "\n",
      "          0     0.1429    0.0072    0.0137       279\n",
      "          1     0.3700    0.0585    0.1010       633\n",
      "          2     0.1828    0.7326    0.2926       389\n",
      "          3     0.2430    0.2549    0.2488       510\n",
      "          4     0.0000    0.0000    0.0000       399\n",
      "\n",
      "avg / total     0.2123    0.2054    0.1396      2210\n",
      "\n"
     ]
    }
   ],
   "source": [
    "print(\"Root label accuracy {:.6f}\\n\".format(accuracy_score(rntn.fine_label, rntn.fine_guess)))\n",
    "print(\"All node accuracy {:6f}\\n\".format(np.mean(rntn.all_node_acc)))\n",
    "print(classification_report(rntn.fine_label, rntn.fine_guess, digits=4))\n",
    "\n"
   ]
  },
  {
   "cell_type": "code",
   "execution_count": 155,
   "metadata": {
    "collapsed": false
   },
   "outputs": [
    {
     "data": {
      "text/plain": [
       "2    1559\n",
       "3     535\n",
       "1     100\n",
       "0      14\n",
       "4       2\n",
       "Name: fine_guess, dtype: int64"
      ]
     },
     "execution_count": 155,
     "metadata": {},
     "output_type": "execute_result"
    }
   ],
   "source": [
    "rntn.fine_guess.value_counts()  # clearly skewed to neutral, due to all_node training labels being mostly neutral\n",
    "\n"
   ]
  },
  {
   "cell_type": "code",
   "execution_count": 156,
   "metadata": {
    "collapsed": false
   },
   "outputs": [
    {
     "data": {
      "image/png": "[encoded data removed]",
      "text/plain": [
       "<matplotlib.figure.Figure at 0x118c80250>"
      ]
     },
     "metadata": {},
     "output_type": "display_data"
    }
   ],
   "source": [
    "      \n",
    "cnf_matrix = confusion_matrix(rntn.fine_label, rntn.fine_guess)\n",
    "np.set_printoptions(precision=2)\n",
    "\n",
    "plt.figure()\n",
    "plot_confusion_matrix(cnf_matrix, classes=[0,1,2,3,4], title='Fine grained task results')    \n",
    "plt.show()\n",
    "    "
   ]
  },
  {
   "cell_type": "code",
   "execution_count": null,
   "metadata": {
    "collapsed": true
   },
   "outputs": [],
   "source": [
    "# Note, for comparison sake only comparing on root label; \n",
    "# could in theory break up SVM task inputs into phrases and score on all \n",
    "# all node accuracy is significantly better than root accuracy \n",
    "\n",
    "# TODO Coarse comparison\n",
    "# retrain from scratch with root labels (only) in coarse form, removing trees with root neutral labels; \n",
    "# NOTE can't discard neutral labels in non root nodes (all have them), so can't do a coarse all node task \n",
    "\n"
   ]
  },
  {
   "cell_type": "code",
   "execution_count": null,
   "metadata": {
    "collapsed": true
   },
   "outputs": [],
   "source": []
  },
  {
   "cell_type": "code",
   "execution_count": 157,
   "metadata": {
    "collapsed": false
   },
   "outputs": [
    {
     "data": {
      "text/html": [
       "<div>\n",
       "<table border=\"1\" class=\"dataframe\">\n",
       "  <thead>\n",
       "    <tr style=\"text-align: right;\">\n",
       "      <th></th>\n",
       "      <th>test_id</th>\n",
       "      <th>logit_raw_root</th>\n",
       "      <th>y_onehot_root</th>\n",
       "      <th>fine_guess</th>\n",
       "      <th>fine_label</th>\n",
       "      <th>all_node_acc</th>\n",
       "      <th>sent_text</th>\n",
       "    </tr>\n",
       "  </thead>\n",
       "  <tbody>\n",
       "    <tr>\n",
       "      <th>1532</th>\n",
       "      <td>1532</td>\n",
       "      <td>[-1.71784401 -0.52453256  0.20746827 -0.782469...</td>\n",
       "      <td>[0.0, 1.0, 0.0, 0.0, 0.0]</td>\n",
       "      <td>2</td>\n",
       "      <td>1</td>\n",
       "      <td>0.878788</td>\n",
       "      <td>Borrows from so many literary and cinematic so...</td>\n",
       "    </tr>\n",
       "    <tr>\n",
       "      <th>970</th>\n",
       "      <td>970</td>\n",
       "      <td>[-1.65271211 -0.4595637   0.1523335  -0.806114...</td>\n",
       "      <td>[0.0, 0.0, 0.0, 1.0, 0.0]</td>\n",
       "      <td>2</td>\n",
       "      <td>3</td>\n",
       "      <td>0.711111</td>\n",
       "      <td>A perverse little truffle , dainty psychologic...</td>\n",
       "    </tr>\n",
       "    <tr>\n",
       "      <th>1431</th>\n",
       "      <td>1431</td>\n",
       "      <td>[-1.82306993 -0.53300166  0.24900055 -0.379499...</td>\n",
       "      <td>[1.0, 0.0, 0.0, 0.0, 0.0]</td>\n",
       "      <td>2</td>\n",
       "      <td>0</td>\n",
       "      <td>0.578947</td>\n",
       "      <td>Julia is played with exasperating blandness by...</td>\n",
       "    </tr>\n",
       "  </tbody>\n",
       "</table>\n",
       "</div>"
      ],
      "text/plain": [
       "      test_id                                     logit_raw_root  \\\n",
       "1532     1532  [-1.71784401 -0.52453256  0.20746827 -0.782469...   \n",
       "970       970  [-1.65271211 -0.4595637   0.1523335  -0.806114...   \n",
       "1431     1431  [-1.82306993 -0.53300166  0.24900055 -0.379499...   \n",
       "\n",
       "                  y_onehot_root  fine_guess  fine_label  all_node_acc  \\\n",
       "1532  [0.0, 1.0, 0.0, 0.0, 0.0]           2           1      0.878788   \n",
       "970   [0.0, 0.0, 0.0, 1.0, 0.0]           2           3      0.711111   \n",
       "1431  [1.0, 0.0, 0.0, 0.0, 0.0]           2           0      0.578947   \n",
       "\n",
       "                                              sent_text  \n",
       "1532  Borrows from so many literary and cinematic so...  \n",
       "970   A perverse little truffle , dainty psychologic...  \n",
       "1431  Julia is played with exasperating blandness by...  "
      ]
     },
     "execution_count": 157,
     "metadata": {},
     "output_type": "execute_result"
    }
   ],
   "source": [
    "# Add sent text, save misclassified \n",
    "\n",
    "# to get sent text dataSplits.txt --> dataSentences.txt --> test_ids (indexes)\n",
    "# 1-train 2-test 3-dev\n",
    "\n",
    "splits = pandas.read_csv(\"../sst/datasetSplit.txt\")\n",
    "test_is = splits[splits.splitset_label == 2].sentence_index.tolist() \n",
    "\n",
    "\n",
    "sents_df = pandas.read_table(\"../sst/datasetSentences.txt\", header=None, names=[\"idx\", \"sent\"])\n",
    "sents_df\n",
    "\n",
    "sents = sents_df[sents_df.idx.isin(test_is)].sent.values.tolist()\n",
    "rntn['sent_text'] = sents\n",
    "rntn.sample(3)\n",
    "\n"
   ]
  },
  {
   "cell_type": "code",
   "execution_count": 159,
   "metadata": {
    "collapsed": false
   },
   "outputs": [
    {
     "name": "stdout",
     "output_type": "stream",
     "text": [
      "writing 1756/ 2210 misclassified for root label, fine grained task\n"
     ]
    }
   ],
   "source": [
    "\n",
    "misses_rntn = rntn.filter(['fine_label', 'fine_guess', 'sent_text'], axis=1)[rntn.fine_guess != rntn.fine_label]\n",
    "\n",
    "\n",
    "print(\"writing {:d}/ {:d} misclassified for root label, fine grained task\". \\\n",
    "      format(len(misses_rntn), len(rntn)))\n",
    "\n",
    "misses_rntn.to_csv(\"misclf_rntn_fine.csv\")\n",
    "\n"
   ]
  },
  {
   "cell_type": "code",
   "execution_count": null,
   "metadata": {
    "collapsed": true
   },
   "outputs": [],
   "source": []
  },
  {
   "cell_type": "code",
   "execution_count": null,
   "metadata": {
    "collapsed": true
   },
   "outputs": [],
   "source": []
  }
 ],
 "metadata": {
  "anaconda-cloud": {},
  "kernelspec": {
   "display_name": "Python [conda root]",
   "language": "python",
   "name": "conda-root-py"
  },
  "language_info": {
   "codemirror_mode": {
    "name": "ipython",
    "version": 2
   },
   "file_extension": ".py",
   "mimetype": "text/x-python",
   "name": "python",
   "nbconvert_exporter": "python",
   "pygments_lexer": "ipython2",
   "version": "2.7.12"
  }
 },
 "nbformat": 4,
 "nbformat_minor": 1
}
